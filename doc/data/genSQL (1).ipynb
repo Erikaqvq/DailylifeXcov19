{
 "cells": [
  {
   "cell_type": "code",
   "execution_count": 3,
   "id": "c9d94e44",
   "metadata": {},
   "outputs": [],
   "source": [
    "import pandas as pd\n",
    "import numpy as np"
   ]
  },
  {
   "cell_type": "code",
   "execution_count": null,
   "id": "b6cafe02",
   "metadata": {},
   "outputs": [],
   "source": [
    "filepath = \"WHO-COVID-19-global-data.xlsx\"\n",
    "fd = pd.read_excel(filepath)\n",
    "data = fd.values\n",
    "print(np.shape(data))"
   ]
  },
  {
   "cell_type": "code",
   "execution_count": 35,
   "id": "761a0cd9",
   "metadata": {},
   "outputs": [],
   "source": [
    "y,x = np.shape(data)\n",
    "f = open(\"DailydataSQL.txt\",\"w\",encoding = 'utf-8')\n",
    "for i in range(y):\n",
    "    print(\"INSERT INTO Dailydata (Data_ID, Date, Country_code, Country, WHO_region, New_cases, Cum_cases, New_deaths, Cum_deaths)\\n\", file = f)\n",
    "    print(\"VALUES (\",i,\",'\",data[i][0],\"','\",data[i][1],\"','\",data[i][2],\"','\",data[i][3],\"',\",data[i][4],\",\",data[i][5],\",\",data[i][6],\",\",data[i][7],\");\\n\", file = f)\n",
    "f.close()"
   ]
  },
  {
   "cell_type": "code",
   "execution_count": 31,
   "id": "0cc798da",
   "metadata": {},
   "outputs": [
    {
     "name": "stdout",
     "output_type": "stream",
     "text": [
      "(42586, 20)\n"
     ]
    }
   ],
   "source": [
    "filepath = \"All_Articles_Excel_Augustuntil9October2020.xlsx\"\n",
    "fd = pd.read_excel(filepath)\n",
    "data = fd.values\n",
    "print(np.shape(data))\n"
   ]
  },
  {
   "cell_type": "code",
   "execution_count": 7,
   "id": "6d5b9e5a",
   "metadata": {},
   "outputs": [
    {
     "name": "stdout",
     "output_type": "stream",
     "text": [
      "0 : 2020-10-09 00:00:00\n",
      "1 : عهرت حمند امحد, ع\n",
      "2 : إدارة املؤسسات اجلامعية يف ظل أزمة (كوفيد-91\n",
      "3 : The Corona crisis is comprehensive and serious, and is one of the most important challenges which facing various universities, Where the Corona virus has focused in the past few months on the methods, through which universities dealt with the effects of the Corona virus, The virus revealed the reality of the administrative systems of each of these universities, As the virus was a test of the world’s delicate capacities in how to manage the crisis and how to deal with its various impacts, As a result, university institutions currently have serious attempts to amend and change their traditional methods of administration to use the management methods that are more dependent on information technologies, Therefore, the current paper recommended a number of recommendations that would improve the administrative methods in universities, including the importance of having clearly defined future plans in universities to help them adapt to emergency developments and crises, so that this plan includes a number of scenarios to maintain and continue the work efficiently and effectively. [ABSTRACT FROM AUTHOR]; Copyright of Journal of Education - Sohag University is the property of Journal of Education - Sohag University and its content may not be copied or emailed to multiple sites or posted to a listserv without the copyright holder's express written permission. However, users may print, download, or email articles for individual use. This abstract may be abridged. No warranty is given about the accuracy of the copy. Users should refer to the original published version of the material for the full abstract. (Copyright applies to all Abstracts.)\n",
      "4 : 2020\n",
      "5 : Journal of Education - Sohag University\n",
      "6 : 78\n",
      "7 : Part 1\n",
      "8 : 2020-01-09 00:00:00\n",
      "9 : 146306674\n",
      "10 : 10.12816/EDUSOHAG.2020.109245\n",
      "11 : http://search.ebscohost.com/login.aspx?direct=true&db=a9h&AN=146306674&site=ehost-live\n",
      "12 : a9h\n",
      "13 : EBSCOhost\n",
      "14 : nan\n",
      "15 : Administration; Corona Virus; Information; Technology; University; إدارة; تكنولوجيا المعمومات; جامعية; فيروس كورونا\n",
      "16 : nan\n",
      "17 : nan\n",
      "18 : nan\n",
      "19 : nan\n"
     ]
    }
   ],
   "source": [
    "for i in range(20):\n",
    "    print(i,\":\", data[0][i])"
   ]
  },
  {
   "cell_type": "code",
   "execution_count": 32,
   "id": "3350d949",
   "metadata": {},
   "outputs": [],
   "source": [
    "y,x = np.shape(data)\n",
    "f = open(\"ArticleSQL.txt\",\"w\",encoding = 'utf-8')\n",
    "for i in range(1,2000):\n",
    "    print(\"INSERT INTO Article(ArticleId, Date, Author, Title, Year,Journal, Volume, Issue,  DOI, URL, DB, language, keyword)\\n\", file = f)\n",
    "    print(\"VALUES (\",i,\",'\",data[i][0],\"','\",data[i][1],\"','\",data[i][2],\"','\",data[i][4],\"','\",data[i][5],\"','\",data[i][6],\"','\",data[i][7],\"','\",data[i][10],\"','\",data[i][11],\"','\",data[i][12],\"','\",data[i][13],\"','\",data[i][14],\"');\\n\", file = f)\n",
    "f.close()"
   ]
  },
  {
   "cell_type": "code",
   "execution_count": 16,
   "id": "3a80a038",
   "metadata": {},
   "outputs": [
    {
     "name": "stdout",
     "output_type": "stream",
     "text": [
      "(1055, 9)\n"
     ]
    }
   ],
   "source": [
    "filepath = \"vaccination-metadata.csv\"\n",
    "fd = pd.read_csv(filepath)\n",
    "data = fd.values\n",
    "print(np.shape(data))\n"
   ]
  },
  {
   "cell_type": "code",
   "execution_count": 20,
   "id": "0248eff3",
   "metadata": {},
   "outputs": [],
   "source": [
    "y,x = np.shape(data)\n",
    "f = open(\"VacSQL.txt\",\"w\",encoding = 'utf-8')\n",
    "for i in range(y):\n",
    "    print(\"INSERT INTO Vaccination (VacId, VacName, ProductName, Company, AuDate, StDate, Source)\\n\", file = f)\n",
    "    print(\"VALUES (\",i,\",'\",data[i][1],\"','\",data[i][2],\"','\",data[i][3],\"','\",data[i][4],\"','\",data[i][5],\"','\",data[i][8],\"');\\n\", file = f)\n",
    "f.close()"
   ]
  },
  {
   "cell_type": "code",
   "execution_count": 21,
   "id": "363e6fb6",
   "metadata": {},
   "outputs": [
    {
     "name": "stdout",
     "output_type": "stream",
     "text": [
      "(42905, 11)\n"
     ]
    }
   ],
   "source": [
    "filepath = \"worldcities.csv\"\n",
    "fd = pd.read_csv(filepath)\n",
    "data = fd.values\n",
    "print(np.shape(data))"
   ]
  },
  {
   "cell_type": "code",
   "execution_count": 29,
   "id": "c195494b",
   "metadata": {},
   "outputs": [],
   "source": [
    "y,x = np.shape(data)\n",
    "f = open(\"CitySQL.txt\",\"w\",encoding = 'utf-8')\n",
    "for i in range(2000):\n",
    "    print(\"INSERT INTO City (CityId, City, lat, lng, Country, iso2, iso3, capital, population,uid)\\n\", file = f)\n",
    "    print(\"VALUES (\",i,\",'\",data[i][1],\"',\",data[i][2],\",\",data[i][3],\",'\",data[i][4],\"','\",data[i][5],\"','\",data[i][6],\"','\",data[i][8],\"','\",data[i][9],\"',\",data[i][10],\");\\n\", file = f)\n",
    "f.close()"
   ]
  },
  {
   "cell_type": "code",
   "execution_count": null,
   "id": "1d75467d",
   "metadata": {},
   "outputs": [],
   "source": []
  }
 ],
 "metadata": {
  "kernelspec": {
   "display_name": "Python 3 (ipykernel)",
   "language": "python",
   "name": "python3"
  },
  "language_info": {
   "codemirror_mode": {
    "name": "ipython",
    "version": 3
   },
   "file_extension": ".py",
   "mimetype": "text/x-python",
   "name": "python",
   "nbconvert_exporter": "python",
   "pygments_lexer": "ipython3",
   "version": "3.9.12"
  }
 },
 "nbformat": 4,
 "nbformat_minor": 5
}
